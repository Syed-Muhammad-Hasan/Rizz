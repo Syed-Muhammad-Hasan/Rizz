{
 "cells": [
  {
   "cell_type": "code",
   "execution_count": 8,
   "id": "3a32840b-f217-49cc-9567-5a31e02fe14f",
   "metadata": {},
   "outputs": [],
   "source": [
    "import pandas as pd\n",
    "import numpy as np\n",
    "import glob\n",
    "import json\n",
    "import csv \n",
    "import calendar"
   ]
  },
  {
   "cell_type": "code",
   "execution_count": 2,
   "id": "0268b89a-8602-4343-b800-13293146a592",
   "metadata": {},
   "outputs": [
    {
     "name": "stderr",
     "output_type": "stream",
     "text": [
      "C:\\Users\\hasan\\AppData\\Local\\Temp\\ipykernel_8472\\1696998938.py:11: FutureWarning: The behavior of DataFrame concatenation with empty or all-NA entries is deprecated. In a future version, this will no longer exclude empty or all-NA columns when determining the result dtypes. To retain the old behavior, exclude the relevant entries before the concat operation.\n",
      "  finalDataFrame = pd.concat([finalDataFrame, pd.DataFrame({'State': [state], 'Year': [f\"{year}-{month_num}\"], 'Value': [row[month]]})], ignore_index=True)\n",
      "C:\\Users\\hasan\\AppData\\Local\\Temp\\ipykernel_8472\\1696998938.py:11: FutureWarning: The behavior of DataFrame concatenation with empty or all-NA entries is deprecated. In a future version, this will no longer exclude empty or all-NA columns when determining the result dtypes. To retain the old behavior, exclude the relevant entries before the concat operation.\n",
      "  finalDataFrame = pd.concat([finalDataFrame, pd.DataFrame({'State': [state], 'Year': [f\"{year}-{month_num}\"], 'Value': [row[month]]})], ignore_index=True)\n",
      "C:\\Users\\hasan\\AppData\\Local\\Temp\\ipykernel_8472\\1696998938.py:11: FutureWarning: The behavior of DataFrame concatenation with empty or all-NA entries is deprecated. In a future version, this will no longer exclude empty or all-NA columns when determining the result dtypes. To retain the old behavior, exclude the relevant entries before the concat operation.\n",
      "  finalDataFrame = pd.concat([finalDataFrame, pd.DataFrame({'State': [state], 'Year': [f\"{year}-{month_num}\"], 'Value': [row[month]]})], ignore_index=True)\n"
     ]
    }
   ],
   "source": [
    "Filenames = (glob.glob(\"*.txt\"))\n",
    "for i in Filenames:\n",
    "    data = pd.read_csv(i, header=None ,names=['StateCodes','Jan','Feb','Mar','Apr','May','Jun','Jul','Aug','Sep','Oct','Nov','Dec'], delimiter=r'\\s+',  dtype={'StateCodes': str}).reset_index()\n",
    "    finalDataFrame = pd.DataFrame(columns=['State', 'Year', 'Value'])\n",
    "    month_name_to_num = {month: str(i).zfill(2) for i, month in enumerate(calendar.month_abbr) if i != 0}\n",
    "    for index, row in data.iterrows():\n",
    "        state = row['StateCodes'][:3]\n",
    "        year = row['StateCodes'][-4:]\n",
    "        for month in data.columns[2:]:\n",
    "            month_num = month_name_to_num[month]\n",
    "            finalDataFrame = pd.concat([finalDataFrame, pd.DataFrame({'State': [state], 'Year': [f\"{year}-{month_num}\"], 'Value': [row[month]]})], ignore_index=True)\n",
    "\n",
    "    \n",
    "    finalDataFrame.to_csv(i.split('.')[0]+'.csv', index=False)"
   ]
  },
  {
   "cell_type": "code",
   "execution_count": 12,
   "id": "e36048dd-2584-4381-9120-d791c2f85f36",
   "metadata": {},
   "outputs": [],
   "source": [
    "minimumFile = (glob.glob(\"../data/minData.txt\"))\n",
    "maximumFile = (glob.glob(\"../data/maxData.txt\"))\n",
    "FinalDataFrame = pd.DataFrame()\n",
    "minData = pd.read_csv(minimumFile[0], header=None ,names=['StateCodes','Jan','Feb','Mar','Apr','May','Jun','Jul','Aug','Sep','Oct','Nov','Dec'], delimiter=r'\\s+',  dtype={'StateCodes': str}).reset_index()\n",
    "maxData = pd.read_csv(maximumFile[0], header=None ,names=['StateCodes','Jan','Feb','Mar','Apr','May','Jun','Jul','Aug','Sep','Oct','Nov','Dec'], delimiter=r'\\s+',  dtype={'StateCodes': str}).reset_index()\n",
    "FinalDataFrame['State'] = minData['StateCodes'].str[:3]\n",
    "FinalDataFrame['Year'] = minData['StateCodes'].str[-4:]\n",
    "FinalDataFrame['MinTemperature'] = minData.loc[:,['Jan', 'Feb', 'Mar', 'Apr', 'May', 'Jun', 'Jul', 'Aug', 'Sep', 'Oct', 'Nov', 'Dec']].mean(axis=1)\n",
    "FinalDataFrame['MaxTemperature'] = maxData.loc[:,['Jan', 'Feb', 'Mar', 'Apr', 'May', 'Jun', 'Jul', 'Aug', 'Sep', 'Oct', 'Nov', 'Dec']].mean(axis=1)\n",
    "FinalDataFrame = FinalDataFrame.round(2)\n",
    "FinalDataFrame.to_csv('../data/RigidLines/RidgeLine.csv', index=False)\n",
    "    \n",
    "    "
   ]
  },
  {
   "cell_type": "code",
   "execution_count": 9,
   "id": "4770c733-a607-4e01-a7e3-af1b8180a487",
   "metadata": {},
   "outputs": [],
   "source": [
    "StateDict = {\"001\":\"Alabama\",\n",
    "\"026\":\"Nevada\",\n",
    "\"027\":\"New Hampshire\",\n",
    "\"002\":\"Arizona\",\n",
    "\"031\":\"North Carolina\",\n",
    "\"003\":\"Arkansas\",\n",
    "\"032\":\"North Dakota\",\n",
    "\"004\":\"California\",\n",
    "\"033\":\"Ohio\",\n",
    "\"005\":\"Colorado\",\n",
    "\"034\":\"Oklahoma\",\n",
    "\"006\":\"Connecticut\",\n",
    "\"035\":\"Oregon\",\n",
    "\"007\":\"Delaware\",\n",
    "\"036\":\"Pennsylvania\",\n",
    "\"008\":\"Florida\",\n",
    "\"037\":\"Rhode Island\",\n",
    "\"009\":\"Georgia\",\n",
    "\"038\":\"South Carolina\",\n",
    "\"010\":\"Idaho\",\n",
    "\"039\":\"South Dakota\",\n",
    "\"011\":\"Illinois\",\n",
    "\"040\":\"Tennessee\",\n",
    "\"012\":\"Indiana\",\n",
    "\"041\":\"Texas\",\n",
    "\"013\":\"Iowa\",\n",
    "\"042\":\"Utah\",\n",
    "\"014\":\"Kansas\",\n",
    "\"043\":\"Vermont\",\n",
    "\"015\":\"Kentucky\",\n",
    "\"044\":\"Virginia\",\n",
    "\"016\":\"Louisiana\",\n",
    "\"045\":\"Washington\",\n",
    "\"017\":\"Maine\",\n",
    "\"046\":\"West Virginia\",\n",
    "\"018\":\"Maryland\",\n",
    "\"047\":\"Wisconsin\",\n",
    "\"019\":\"Massachusetts\",\n",
    "\"048\":\"Wyoming\",\n",
    "\"020\":\"Michigan\",\n",
    "\"050\":\"Alaska\",\n",
    "\"021\":\"Minnesota\",\n",
    "\"022\":\"Mississippi\",\n",
    "\"023\":\"Missouri\",\n",
    "\"024\":\"Montana\",\n",
    "\"025\":\"Nebraska\",\n",
    "\"028\":\"New Jersey\",\n",
    "\"029\":\"New Mexico\",\n",
    "\"030\":\"New York\"}\n",
    "\n",
    "with open(\"States.json\", \"w\") as fp:\n",
    "    json.dump(StateDict , fp)"
   ]
  },
  {
   "cell_type": "code",
   "execution_count": null,
   "id": "bd55f7f6-5b5c-4e4a-9f77-0cffa43e8217",
   "metadata": {},
   "outputs": [],
   "source": []
  }
 ],
 "metadata": {
  "kernelspec": {
   "display_name": "Python 3 (ipykernel)",
   "language": "python",
   "name": "python3"
  },
  "language_info": {
   "codemirror_mode": {
    "name": "ipython",
    "version": 3
   },
   "file_extension": ".py",
   "mimetype": "text/x-python",
   "name": "python",
   "nbconvert_exporter": "python",
   "pygments_lexer": "ipython3",
   "version": "3.10.8"
  }
 },
 "nbformat": 4,
 "nbformat_minor": 5
}
