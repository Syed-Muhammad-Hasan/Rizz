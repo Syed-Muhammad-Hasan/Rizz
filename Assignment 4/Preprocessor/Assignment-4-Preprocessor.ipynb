{
 "cells": [
  {
   "cell_type": "code",
   "execution_count": 1,
   "id": "3a32840b-f217-49cc-9567-5a31e02fe14f",
   "metadata": {},
   "outputs": [],
   "source": [
    "import pandas as pd\n",
    "import numpy as np\n",
    "import glob\n",
    "import json\n",
    "import csv\n",
    "import requests\n",
    "from math import pi"
   ]
  },
  {
   "cell_type": "code",
   "execution_count": 2,
   "id": "5aa542fc-673c-4f9e-85c1-93a5e5c001b1",
   "metadata": {},
   "outputs": [
    {
     "name": "stdout",
     "output_type": "stream",
     "text": [
      "{'01': 'Alabama', '02': 'Alaska', '04': 'Arizona', '05': 'Arkansas', '06': 'California', '08': 'Colorado', '09': 'Connecticut', '10': 'Delaware', '11': 'District of Columbia', '12': 'Florida', '13': 'Georgia', '15': 'Hawaii', '16': 'Idaho', '17': 'Illinois', '18': 'Indiana', '19': 'Iowa', '20': 'Kansas', '21': 'Kentucky', '22': 'Louisiana', '23': 'Maine', '24': 'Maryland', '25': 'Massachusetts', '26': 'Michigan', '27': 'Minnesota', '28': 'Mississippi', '29': 'Missouri', '30': 'Montana', '31': 'Nebraska', '32': 'Nevada', '33': 'New Hampshire', '34': 'New Jersey', '35': 'New Mexico', '36': 'New York', '37': 'North Carolina', '38': 'North Dakota', '39': 'Ohio', '40': 'Oklahoma', '41': 'Oregon', '42': 'Pennsylvania', '44': 'Rhode Island', '45': 'South Carolina', '46': 'South Dakota', '47': 'Tennessee', '48': 'Texas', '49': 'Utah', '50': 'Vermont', '51': 'Virginia', '53': 'Washington', '54': 'West Virginia', '55': 'Wisconsin', '56': 'Wyoming', '72': 'Puerto Rico'}\n"
     ]
    }
   ],
   "source": [
    "#Generate the dictionary of codes for each state provided in the geojson file.\n",
    "url = \"https://raw.githubusercontent.com/PublicaMundi/MappingAPI/master/data/geojson/us-states.json\"\n",
    "\n",
    "response = requests.get(url)\n",
    "codes = {}\n",
    "if response.status_code == 200:\n",
    "    data = response.json()\n",
    "    for i in data['features']:\n",
    "        prop_val = i['properties']\n",
    "        codes[i['id']] = prop_val['name']\n",
    "else:\n",
    "    print(\"Failed to fetch data:\", response.status_code)\n",
    "print(codes)"
   ]
  },
  {
   "cell_type": "code",
   "execution_count": 3,
   "id": "d74f4d7e-4ef3-450d-b893-e5f737addf39",
   "metadata": {},
   "outputs": [],
   "source": [
    "#Get Key from Value\n",
    "def get_keys_from_value(dictionary, value):\n",
    "    keys = [key for key, val in dictionary.items() if val == value]\n",
    "    return keys"
   ]
  },
  {
   "cell_type": "code",
   "execution_count": 5,
   "id": "e36048dd-2584-4381-9120-d791c2f85f36",
   "metadata": {},
   "outputs": [
    {
     "name": "stdout",
     "output_type": "stream",
     "text": [
      "{'New Mexico': [2325, 312.43988527134985, '35'], 'California': [1123633, 137673.3848150004, '06'], 'Colorado': [344031, 41706.01838465935, '08'], 'Texas': [44321, 8051.182557365708, '48'], 'Maryland': [120620, 15868.38178869361, '24'], 'Massachusetts': [14498, 3669.2350561981243, '25'], 'Florida': [118106, 14765.77618002787, '12'], 'Ohio': [135318, 14389.783015898198, '39'], 'Iowa': [15273, 3176.7518694538517, '19'], 'Michigan': [85426, 11467.517883916358, '26'], 'North Carolina': [19782, 2612.506742689875, '37'], 'Hawaii': [14655, 2331.0226307315493, '15'], 'Indiana': [97227, 12895.75196011939, '18'], 'Tennessee': [8322, 709.3377731586706, '47'], 'Nevada': [29198, 1820.6263211862222, '32'], 'Kentucky': [32711, 2095.6529530309294, '21'], 'Wisconsin': [115365, 15803.369192295482, '55'], 'Minnesota': [174674, 21969.861388477715, '27'], 'New York': [697631, 92447.31010964904, '36'], 'Oklahoma': [8866, 1139.3256862609744, '40'], 'Kansas': [30841, 1209.9748966565803, '20'], 'Arizona': [214, 24.899605522851036, '04'], 'Oregon': [213890, 24015.277335201004, '41'], 'Rhode Island': [24066, 2194.4669919446906, '44'], 'Virginia': [1815, 280.9915922886428, '51'], 'Washington': [164297, 13512.60548419319, '53'], 'South Dakota': [61171, 3210.352655807765, '46'], 'Missouri': [83445, 10516.608333512913, '29'], 'District of Columbia': [165958, 18051.429620889357, '11']}\n"
     ]
    }
   ],
   "source": [
    "State_Level_data = {}\n",
    "FullFilenames =  (glob.glob(\"../../Dataset/*.csv\")) \n",
    "for i in FullFilenames:\n",
    "    data = pd.read_csv(i, usecols=['scientific_name', 'city', 'state','diameter_breast_height_binned_CM'])\n",
    "    data.dropna(how='any', inplace=True)\n",
    "    if(not(data.empty)):\n",
    "        splitToGetDiameter = data['diameter_breast_height_binned_CM'].str.split(' ')\n",
    "        state = data.iloc[0][['state']].to_list()\n",
    "        diameterInCMs = splitToGetDiameter.apply(lambda x: float(x[-2]) if len(x) >= 2 and x[-2].replace('.', '', 1).isdigit() else None)\n",
    "        data['Area'] =  diameterInCMs.apply(lambda diameter: pi * ((diameter / 100)/2) ** 2 if diameter is not None else None)\n",
    "        totalArea = data['Area'].sum()\n",
    "        totalTrees = data.shape[0]\n",
    "        if state[0] not in State_Level_data:\n",
    "                State_Level_data[state[0]] = [totalTrees,totalArea,get_keys_from_value(codes,state[0])[0]]\n",
    "        else:\n",
    "            State_Level_data[state[0]][0] += totalTrees\n",
    "            State_Level_data[state[0]][1] += totalArea\n",
    "\n",
    "print(State_Level_data)\n"
   ]
  },
  {
   "cell_type": "code",
   "execution_count": 10,
   "id": "f0349c60-5235-47d5-8943-f4af6311ce71",
   "metadata": {},
   "outputs": [
    {
     "name": "stdout",
     "output_type": "stream",
     "text": [
      "['04', '06', '08', '11', '12', '15', '18', '19', '20', '21', '24', '25', '26', '27', '29', '32', '35', '36', '37', '39', '40', '41', '44', '46', '47', '48', '51', '53', '55']\n",
      "52\n"
     ]
    }
   ],
   "source": [
    "StatesInStateLevelData = State_Level_data.keys()\n",
    "StatesExistsKey=[]\n",
    "for i in StatesInStateLevelData:\n",
    "    key = get_keys_from_value(codes,i)\n",
    "    StatesExistsKey.append(key[0])\n",
    "print(sorted(StatesExistsKey))\n",
    "for key, value in codes.items():\n",
    "    if key not in StatesExistsKey:\n",
    "        State_Level_data[value]=[0,0,str(key)]\n",
    "print(len(State_Level_data))\n"
   ]
  },
  {
   "cell_type": "code",
   "execution_count": 11,
   "id": "4770c733-a607-4e01-a7e3-af1b8180a487",
   "metadata": {},
   "outputs": [],
   "source": [
    "df = pd.DataFrame(State_Level_data.items(), columns=['name', 'data'])\n",
    "df[['totalTrees', 'totalArea', 'id']] = pd.DataFrame(df['data'].tolist(), index=df.index)\n",
    "df = df[['id', 'name', 'totalTrees', 'totalArea']]\n",
    "df = df.sort_values(by='id')\n",
    "df.to_csv('State_Level_data.csv', index=False)"
   ]
  },
  {
   "cell_type": "code",
   "execution_count": null,
   "id": "b13f9454-d5b8-49e8-970d-eb7ef1a833c6",
   "metadata": {},
   "outputs": [],
   "source": []
  }
 ],
 "metadata": {
  "kernelspec": {
   "display_name": "Python 3 (ipykernel)",
   "language": "python",
   "name": "python3"
  },
  "language_info": {
   "codemirror_mode": {
    "name": "ipython",
    "version": 3
   },
   "file_extension": ".py",
   "mimetype": "text/x-python",
   "name": "python",
   "nbconvert_exporter": "python",
   "pygments_lexer": "ipython3",
   "version": "3.10.8"
  }
 },
 "nbformat": 4,
 "nbformat_minor": 5
}
